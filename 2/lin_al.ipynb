{
 "cells": [
  {
   "cell_type": "code",
   "execution_count": 2,
   "source": [
    "import numpy as np\n",
    "from numpy import linalg as LA\n",
    "import fractions\n",
    "from fractions import Fraction\n",
    "from __future__ import print_function\n"
   ],
   "outputs": [],
   "metadata": {}
  },
  {
   "cell_type": "code",
   "execution_count": 3,
   "source": [
    "A = [\n",
    "\n",
    "    [18, 6, 0], \n",
    "    [6, 6, -7],\n",
    "    [0, -7, 18]\n",
    "]\n",
    "\n",
    "A_norm = LA.norm(A, ord = 1)\n",
    "\n",
    "A_inv = LA.inv(A)\n",
    "\n",
    "A_inv_norm = LA.norm(A_inv, ord = 1)\n",
    "\n",
    "print(A_inv_norm)\n",
    "print(\"mu = \", A_norm * A_inv_norm)\n",
    "\n",
    "for a in A_inv: \n",
    "    for ai in a: \n",
    "        print(Fraction(ai).limit_denominator(max_denominator=100), end = \" \")\n",
    "    print()\n"
   ],
   "outputs": [
    {
     "output_type": "stream",
     "name": "stdout",
     "text": [
      "1.347826086956522\n",
      "mu =  33.69565217391305\n",
      "1/7 -6/23 -7/69 \n",
      "-6/23 18/23 7/23 \n",
      "-7/69 7/23 4/23 \n"
     ]
    }
   ],
   "metadata": {}
  },
  {
   "cell_type": "markdown",
   "source": [
    "## a)\n",
    "\n",
    "$$||\\cdot||_1$$\n",
    "$$ ||A||_1 = \\max\\limits_{i} \\sum_{j} |a_{ij}|$$\n",
    "$$ \\mu = ||A||_1 \\cdot ||A^{-1}||_1 \\approx 33.7 $$ \n",
    "$$\\dfrac{||\\Delta x||_1}{||x||_1} \\leqslant \\mu \\dfrac{||\\Delta f||_1}{||f||_1} \\leqslant 0.34$$\n",
    "\n",
    "$$ ||\\cdot||_2 $$\n",
    "\n",
    "$$ ||A||_2 = \\max\\limits_{j} \\sum_{i} |a_{ij}|$$\n",
    "\n",
    "$$ ||A||_2 = ||A||_1 = 25$$\n",
    "$$ ||A^{-1}||_2 =  ||A^{-1}||_1 = 1.35$$\n",
    "$$ \\dfrac{||\\Delta x||_1}{||x||_1} \\leqslant 0.34 $$"
   ],
   "metadata": {}
  },
  {
   "cell_type": "code",
   "execution_count": 85,
   "source": [
    "A_inv2 = LA.matrix_power(A_inv, 2)\n",
    "\n",
    "print(LA.eig(A_inv2)[0])"
   ],
   "outputs": [
    {
     "output_type": "stream",
     "name": "stdout",
     "text": [
      "[1.         0.00308642 0.00189036]\n"
     ]
    }
   ],
   "metadata": {}
  },
  {
   "cell_type": "markdown",
   "source": [
    "$\\lambda_{(A^{-1})^{*} A^{-1}} \\rightarrow \\qquad\n",
    "                                1 , \\qquad\n",
    "                                0.00308 , \\qquad\n",
    "                                0.00189$"
   ],
   "metadata": {}
  },
  {
   "cell_type": "markdown",
   "source": [
    "$$ ||A^{-1}||_3 = 1 $$\n",
    "$$\\Downarrow$$\n",
    "$$ \\mu = 23 $$\n",
    "$$\\Downarrow$$\n",
    "$$\\dfrac{||\\Delta x||_3}{||x||_3} \\leqslant 0.23$$\n"
   ],
   "metadata": {}
  },
  {
   "cell_type": "markdown",
   "source": [
    "## b)\n",
    "В оценках $\\dfrac{||\\Delta x||}{||x||} \\leqslant \\mu \\dfrac{||\\Delta f||}{||f||}$ точное равенство достигается в самом худшем случае, когда $\\nu(\\vec{f}) = \\max\\nu(\\vec{f}) = \\mu$"
   ],
   "metadata": {}
  },
  {
   "cell_type": "markdown",
   "source": [
    "Для $||\\cdot||_3$ нужно взять $\\vec(f) = \\vec(v)_{\\max\\lambda_i(A)}$"
   ],
   "metadata": {}
  },
  {
   "cell_type": "markdown",
   "source": [
    "$\\max|\\lambda_i(A)| = 23$"
   ],
   "metadata": {}
  },
  {
   "cell_type": "code",
   "execution_count": 3,
   "source": [
    "E = np.eye(3)\n",
    "print(A - 23*E)"
   ],
   "outputs": [
    {
     "output_type": "stream",
     "name": "stdout",
     "text": [
      "[[ -5.   6.   0.]\n",
      " [  6. -17.  -7.]\n",
      " [  0.  -7.  -5.]]\n"
     ]
    }
   ],
   "metadata": {}
  },
  {
   "cell_type": "markdown",
   "source": [
    "$\\vec{v} = \\begin{pmatrix} -6 \\\\ -5 \\\\ 1  \\end{pmatrix} = \\vec{f} \\Rightarrow ||\\Delta f ||_3 = 0.01 \\cdot \\sqrt{36+25+49} \\approx 0.1$\n",
    "\n",
    "\n"
   ],
   "metadata": {}
  },
  {
   "cell_type": "markdown",
   "source": [
    "$\\sum_{i = \\overline{1, 3}} \\Delta f_i^2 \\approx 0.01$"
   ],
   "metadata": {}
  },
  {
   "cell_type": "markdown",
   "source": [
    "$$ || \\cdot ||_1 : $$\n",
    "$$ \\nu(f) = \\mu = ||A^{-1}||_1 \\cdot || A ||_1 = ||A^{-1}||_1 \\cdot \\dfrac{||\\vec{f}||_1}{||\\vec{x}||_1}$$\n",
    "$$ ||\\vec{f}||_1 = || A ||_1 \\cdot ||x||_1 =  || A ||_1 \\cdot || A^{-1}  \\vec{f}||_1$$"
   ],
   "metadata": {}
  },
  {
   "cell_type": "markdown",
   "source": [
    "## c) \n",
    "\n",
    "$\\vec{f}$ известен. Найти $\\nu(\\vec{f})$, которая выполняется $\\forall \\vec{\\Delta f}$\n",
    "\n",
    "$$ \\dfrac{||\\Delta x||}{||x||} \\leqslant \\nu(f) \\cdot \\dfrac{||\\Delta f||}{||f||}  $$\n",
    "\n",
    "$$ \\nu{f} = \\dfrac{||f||}{||x||} \\cdot ||A^{-1}|| = \\dfrac{||f||}{||A^{-1}f||}\\cdot ||A^{-1}||$$\n",
    "\n",
    "$||f||_3 = \\sqrt{f_1^2 + f_2^2 + f_3^2}$ \\qquad  $ ||A^{-1}||_3 = 1 $ \n",
    "$$ ||A^{-1}f||_3 = \\dfrac{1}{414} \\sqrt{16909f_1^2 + 132516f_2^2 + 22824f_3^2 - 93312f_1 f_2 - 38220f_1f_3 + 108864f_2f_3}$$\n",
    "$$ \\nu(f) = 414 \\cdot \\dfrac{\\sqrt{f_1^2 + f_2^2 + f_3^2}}{\\sqrt{16909f_1^2 + 132516f_2^2 + 22824f_3^2 - 93312f_1 f_2 - 38220f_1f_3 + 108864f_2f_3}} $$\n",
    "$$ \\nu(f) \\in (1, 23) $$\n",
    "$$ \\max \\nu(f) \\rightarrow f = (-6, -5, 7)^T  $$\n",
    "$$ \\min \\nu(f) \\rightarrow f = (-6, 17, 7)^T  $$\n"
   ],
   "metadata": {}
  },
  {
   "cell_type": "markdown",
   "source": [
    "## d)\n",
    "### Метод Якоби\n",
    "\n",
    "$$ x^{(s+1)} = - D^{-1}(L+U) \\cdot x^{(s)}+D^{-1}\\cdot f $$"
   ],
   "metadata": {}
  },
  {
   "cell_type": "code",
   "execution_count": 20,
   "source": [
    "D = np.array([\n",
    "\n",
    "    [18, 0, 0],\n",
    "    [0, 6, 0],\n",
    "    [0, 0, 18]\n",
    "])\n",
    "\n",
    "L = np.array([\n",
    "\n",
    "    [0, 0, 0],\n",
    "    [6, 0, 0],\n",
    "    [0, -7, 0]\n",
    "])\n",
    "\n",
    "U = np.array([\n",
    "    [0, 6, 0],\n",
    "    [0, 0, -7],\n",
    "    [0, 0, 0]\n",
    "])\n",
    "\n",
    "Dinv_LU = np.array([\n",
    "    [0, 1/3, 0],\n",
    "    [-1, 0, -7/6],\n",
    "    [0, -7/18, 0]\n",
    "])\n",
    "\n",
    "Dinv = np.array([\n",
    "\n",
    "    [1/18, 0, 0],\n",
    "    [0, 1/6, 0],\n",
    "    [0, 0, 1/18]\n",
    "])\n",
    "\n",
    "A = np.array(L + D + U)\n",
    "print(A)"
   ],
   "outputs": [
    {
     "output_type": "stream",
     "name": "stdout",
     "text": [
      "[[18  6  0]\n",
      " [ 6  6 -7]\n",
      " [ 0 -7 18]]\n"
     ]
    }
   ],
   "metadata": {}
  },
  {
   "cell_type": "markdown",
   "source": [
    "Метод Якоби сходится при условии, что все корни уравнения \n",
    "\n",
    "$\\det \\begin{pmatrix} 16 \\lambda & 6 & 0\\\\ 6 & 6\\lambda & -7 \\\\ 0& -7 & 18\\lambda  \\end{pmatrix} = 0$\n",
    "\n",
    "по модулю меньше 1.\n",
    "\n",
    "$|\\lambda_1|=0 \\qquad |\\lambda_2|= 0, 86 \\lt 1 \\qquad |\\lambda_3|= 0, 53 \\lt 1$ \n",
    "\n",
    "Метод Якоби сходится."
   ],
   "metadata": {}
  },
  {
   "cell_type": "markdown",
   "source": [
    "## Метод Зейделя\n",
    "\n",
    "$$\n",
    "u^{(k+1)} = R\\cdot u^{(k)} + F \\\\\n",
    "\n",
    "R = -(L + D)^{-1}U, \\qquad F = (L + D )^{-1} f\n",
    "$$"
   ],
   "metadata": {}
  },
  {
   "cell_type": "markdown",
   "source": [],
   "metadata": {}
  },
  {
   "cell_type": "code",
   "execution_count": 31,
   "source": [
    "LD_INV = LA.inv(L+D)*LA.det(L+D)\n",
    "np.matmul(LD_INV, U)"
   ],
   "outputs": [
    {
     "output_type": "execute_result",
     "data": {
      "text/plain": [
       "array([[    0.,   648.,     0.],\n",
       "       [    0.,  -648., -2268.],\n",
       "       [    0.,  -252.,  -882.]])"
      ]
     },
     "metadata": {},
     "execution_count": 31
    }
   ],
   "metadata": {}
  },
  {
   "cell_type": "markdown",
   "source": [
    "begin{pmatrix} 16 \\lambda & 6 & 0\\\\ 6 & 6\\lambda & -7 \\\\ 0& -7 & 18\\lambda  \\end{pmatrix} "
   ],
   "metadata": {}
  },
  {
   "cell_type": "code",
   "execution_count": 8,
   "source": [
    "3*np.sin(2)**2/(np.sin(2)**2 + 6*np.sin(4))"
   ],
   "outputs": [
    {
     "output_type": "execute_result",
     "data": {
      "text/plain": [
       "-0.6678702204044642"
      ]
     },
     "metadata": {},
     "execution_count": 8
    }
   ],
   "metadata": {}
  },
  {
   "cell_type": "code",
   "execution_count": 7,
   "source": [
    "-np.log2(10**(-3)/3)"
   ],
   "outputs": [
    {
     "output_type": "execute_result",
     "data": {
      "text/plain": [
       "11.550746785383243"
      ]
     },
     "metadata": {},
     "execution_count": 7
    }
   ],
   "metadata": {}
  },
  {
   "cell_type": "code",
   "execution_count": null,
   "source": [],
   "outputs": [],
   "metadata": {}
  }
 ],
 "metadata": {
  "orig_nbformat": 4,
  "language_info": {
   "name": "python",
   "version": "3.8.8",
   "mimetype": "text/x-python",
   "codemirror_mode": {
    "name": "ipython",
    "version": 3
   },
   "pygments_lexer": "ipython3",
   "nbconvert_exporter": "python",
   "file_extension": ".py"
  },
  "kernelspec": {
   "name": "python3",
   "display_name": "Python 3.8.8 64-bit ('base': conda)"
  },
  "interpreter": {
   "hash": "d040b272fbf032b55586873b2ca8d3a5c5e5550394b053ef8ce70fe1327b555a"
  }
 },
 "nbformat": 4,
 "nbformat_minor": 2
}